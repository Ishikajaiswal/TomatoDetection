{
  "cells": [
    {
      "cell_type": "code",
      "execution_count": 1,
      "metadata": {
        "id": "8KCRZxrCCkoH"
      },
      "outputs": [],
      "source": [
        "import numpy as np\n",
        "import random\n",
        "import json\n",
        "import cv2 as cv\n",
        "import pandas as pd\n",
        "import matplotlib.pyplot as plt\n",
        "import xml.etree.ElementTree as ET\n",
        "from sklearn.model_selection import train_test_split\n",
        "import tensorflow as tf\n",
        "import keras \n",
        "from keras.models import Sequential\n",
        "from keras.layers import Dense, Conv2D, Dropout, Flatten, MaxPooling2D\n",
        "from keras.preprocessing.image import ImageDataGenerator\n",
        "from keras.applications.resnet import ResNet50"
      ]
    },
    {
      "cell_type": "code",
      "execution_count": 2,
      "metadata": {},
      "outputs": [
        {
          "data": {
            "text/html": [
              "<div>\n",
              "<style scoped>\n",
              "    .dataframe tbody tr th:only-of-type {\n",
              "        vertical-align: middle;\n",
              "    }\n",
              "\n",
              "    .dataframe tbody tr th {\n",
              "        vertical-align: top;\n",
              "    }\n",
              "\n",
              "    .dataframe thead th {\n",
              "        text-align: right;\n",
              "    }\n",
              "</style>\n",
              "<table border=\"1\" class=\"dataframe\">\n",
              "  <thead>\n",
              "    <tr style=\"text-align: right;\">\n",
              "      <th></th>\n",
              "      <th>lables</th>\n",
              "    </tr>\n",
              "  </thead>\n",
              "  <tbody>\n",
              "    <tr>\n",
              "      <th>0</th>\n",
              "      <td>1</td>\n",
              "    </tr>\n",
              "    <tr>\n",
              "      <th>1</th>\n",
              "      <td>1</td>\n",
              "    </tr>\n",
              "    <tr>\n",
              "      <th>2</th>\n",
              "      <td>1</td>\n",
              "    </tr>\n",
              "    <tr>\n",
              "      <th>3</th>\n",
              "      <td>1</td>\n",
              "    </tr>\n",
              "    <tr>\n",
              "      <th>4</th>\n",
              "      <td>1</td>\n",
              "    </tr>\n",
              "    <tr>\n",
              "      <th>...</th>\n",
              "      <td>...</td>\n",
              "    </tr>\n",
              "    <tr>\n",
              "      <th>12849</th>\n",
              "      <td>0</td>\n",
              "    </tr>\n",
              "    <tr>\n",
              "      <th>12850</th>\n",
              "      <td>0</td>\n",
              "    </tr>\n",
              "    <tr>\n",
              "      <th>12851</th>\n",
              "      <td>0</td>\n",
              "    </tr>\n",
              "    <tr>\n",
              "      <th>12852</th>\n",
              "      <td>0</td>\n",
              "    </tr>\n",
              "    <tr>\n",
              "      <th>12853</th>\n",
              "      <td>0</td>\n",
              "    </tr>\n",
              "  </tbody>\n",
              "</table>\n",
              "<p>12854 rows × 1 columns</p>\n",
              "</div>"
            ],
            "text/plain": [
              "       lables\n",
              "0           1\n",
              "1           1\n",
              "2           1\n",
              "3           1\n",
              "4           1\n",
              "...       ...\n",
              "12849       0\n",
              "12850       0\n",
              "12851       0\n",
              "12852       0\n",
              "12853       0\n",
              "\n",
              "[12854 rows x 1 columns]"
            ]
          },
          "execution_count": 2,
          "metadata": {},
          "output_type": "execute_result"
        }
      ],
      "source": [
        "labels = pd.read_csv('labels3.csv')\n",
        "num = len(labels)\n",
        "labels = labels.iloc[: , 1:]\n",
        "labels"
      ]
    },
    {
      "cell_type": "code",
      "execution_count": 3,
      "metadata": {},
      "outputs": [],
      "source": [
        "path = 'imcrop3/'\n",
        "imgs = []\n",
        "for i in range(num):\n",
        "    img = cv.imread(path + \"t{}.jpg\".format(i))\n",
        "    imgs.append(img)"
      ]
    },
    {
      "cell_type": "code",
      "execution_count": 4,
      "metadata": {},
      "outputs": [
        {
          "data": {
            "text/plain": [
              "12854"
            ]
          },
          "execution_count": 4,
          "metadata": {},
          "output_type": "execute_result"
        },
        {
          "data": {
            "image/png": "[encoded data removed]",
            "text/plain": [
              "<Figure size 432x288 with 1 Axes>"
            ]
          },
          "metadata": {
            "needs_background": "light"
          },
          "output_type": "display_data"
        }
      ],
      "source": [
        "rand = random.randint(0,num)\n",
        "img_show = imgs[rand]\n",
        "plt.imshow(img_show)\n",
        "len(imgs)\n",
        "\n"
      ]
    },
    {
      "cell_type": "code",
      "execution_count": 5,
      "metadata": {
        "id": "MfHlHXDWcogJ"
      },
      "outputs": [],
      "source": [
        "X_train, X_test , y_train, y_test = train_test_split(np.array(imgs),np.array(labels),test_size=0.10)"
      ]
    },
    {
      "cell_type": "code",
      "execution_count": 6,
      "metadata": {},
      "outputs": [
        {
          "name": "stdout",
          "output_type": "stream",
          "text": [
            "(12854, 1)\n",
            "(11568, 224, 224, 3)\n",
            "(1286, 224, 224, 3)\n",
            "(11568, 1)\n",
            "(1286, 1)\n"
          ]
        },
        {
          "data": {
            "text/plain": [
              "(12854, 224, 224, 3)"
            ]
          },
          "execution_count": 6,
          "metadata": {},
          "output_type": "execute_result"
        }
      ],
      "source": [
        "print((np.array(labels)).shape)\n",
        "print(X_train.shape)\n",
        "print(X_test.shape)\n",
        "print(y_train.shape)\n",
        "print(y_test.shape)\n",
        "(np.array(imgs)).shape\n"
      ]
    },
    {
      "cell_type": "code",
      "execution_count": 7,
      "metadata": {
        "colab": {
          "base_uri": "https://localhost:8080/"
        },
        "id": "ypxNxYjPdXOA",
        "outputId": "06396578-a9dc-47fd-f57f-5afa89436e13"
      },
      "outputs": [],
      "source": [
        "resnet = ResNet50(include_top = False, weights = 'imagenet', input_shape=(224,224,3), pooling = 'max')"
      ]
    },
    {
      "cell_type": "code",
      "execution_count": 8,
      "metadata": {
        "colab": {
          "base_uri": "https://localhost:8080/"
        },
        "id": "cUkXFk9m10U8",
        "outputId": "243ec385-b80a-4245-8e05-66fe4d5d8aed"
      },
      "outputs": [
        {
          "name": "stdout",
          "output_type": "stream",
          "text": [
            "<keras.engine.input_layer.InputLayer object at 0x00000241BC08B790>\n",
            "<keras.layers.convolutional.ZeroPadding2D object at 0x000002427BBE2D00>\n",
            "<keras.layers.convolutional.Conv2D object at 0x000002427BC31340>\n",
            "<keras.layers.normalization.batch_normalization.BatchNormalization object at 0x000002427BC310A0>\n",
            "<keras.layers.core.Activation object at 0x000002427BC31BE0>\n",
            "<keras.layers.convolutional.ZeroPadding2D object at 0x000002427BC31130>\n",
            "<keras.layers.pooling.MaxPooling2D object at 0x000002427BCC9580>\n",
            "<keras.layers.convolutional.Conv2D object at 0x000002427BD72D90>\n",
            "<keras.layers.normalization.batch_normalization.BatchNormalization object at 0x000002427BD7E1F0>\n",
            "<keras.layers.core.Activation object at 0x000002427BD7ED60>\n",
            "<keras.layers.convolutional.Conv2D object at 0x000002427BD868E0>\n",
            "<keras.layers.normalization.batch_normalization.BatchNormalization object at 0x000002427BD89CD0>\n",
            "<keras.layers.core.Activation object at 0x000002427BD86D30>\n",
            "<keras.layers.convolutional.Conv2D object at 0x000002427BD67E80>\n",
            "<keras.layers.convolutional.Conv2D object at 0x000002427BD7A310>\n",
            "<keras.layers.normalization.batch_normalization.BatchNormalization object at 0x000002427BD67400>\n",
            "<keras.layers.normalization.batch_normalization.BatchNormalization object at 0x000002427BDA00A0>\n",
            "<keras.layers.merge.Add object at 0x000002427BDA0A90>\n",
            "<keras.layers.core.Activation object at 0x000002427BD8C130>\n",
            "<keras.layers.convolutional.Conv2D object at 0x000002427BDAB250>\n",
            "<keras.layers.normalization.batch_normalization.BatchNormalization object at 0x000002427BDABFD0>\n",
            "<keras.layers.core.Activation object at 0x000002427BDA45E0>\n",
            "<keras.layers.convolutional.Conv2D object at 0x000002427BDB1A60>\n",
            "<keras.layers.normalization.batch_normalization.BatchNormalization object at 0x000002427BDA0D90>\n",
            "<keras.layers.core.Activation object at 0x000002427BDB1EB0>\n",
            "<keras.layers.convolutional.Conv2D object at 0x000002427BD8C790>\n",
            "<keras.layers.normalization.batch_normalization.BatchNormalization object at 0x000002427BDC0C40>\n",
            "<keras.layers.merge.Add object at 0x000002427BDBCF40>\n",
            "<keras.layers.core.Activation object at 0x000002427BDB1460>\n",
            "<keras.layers.convolutional.Conv2D object at 0x000002427BDD63D0>\n"
          ]
        }
      ],
      "source": [
        "for layers in (resnet.layers)[:30]:\n",
        "    print(layers)\n",
        "    layers.trainable = False"
      ]
    },
    {
      "cell_type": "code",
      "execution_count": 9,
      "metadata": {
        "id": "kRXGVXks23Js"
      },
      "outputs": [],
      "source": [
        "model = Sequential()\n",
        "from keras import regularizers"
      ]
    },
    {
      "cell_type": "code",
      "execution_count": 10,
      "metadata": {
        "id": "u0Eep1Vw3aM1"
      },
      "outputs": [],
      "source": [
        "model.add(resnet)\n",
        "model.add(Flatten())\n",
        "model.add(Dense(32,activation= tf.nn.relu,kernel_regularizer=regularizers.l2(0.01),activity_regularizer=regularizers.l1(0.01)))\n",
        "model.add(Dropout(0.2))\n",
        "model.add(Dense(1,activation= tf.nn.sigmoid))"
      ]
    },
    {
      "cell_type": "code",
      "execution_count": 11,
      "metadata": {
        "id": "5OtVdtv53_Np"
      },
      "outputs": [],
      "source": [
        "model.compile(optimizer = 'adam', loss = 'binary_crossentropy', metrics=['accuracy'])"
      ]
    },
    {
      "cell_type": "code",
      "execution_count": 12,
      "metadata": {
        "id": "RhU7lyJC5PQQ"
      },
      "outputs": [],
      "source": [
        "datagen = ImageDataGenerator(\n",
        "    featurewise_center=True,\n",
        "    featurewise_std_normalization=True,\n",
        "    rotation_range=20,\n",
        "    width_shift_range=0.2,\n",
        "    height_shift_range=0.2,\n",
        "    horizontal_flip=True)"
      ]
    },
    {
      "cell_type": "code",
      "execution_count": 13,
      "metadata": {
        "id": "0NxE3FSh5Vqo"
      },
      "outputs": [],
      "source": [
        "BATCH_SIZE = 64\n",
        "train_generator= datagen.flow(X_train, y_train, batch_size=BATCH_SIZE)\n"
      ]
    },
    {
      "cell_type": "code",
      "execution_count": 14,
      "metadata": {
        "id": "aUvUFp5h5fsD"
      },
      "outputs": [],
      "source": [
        "batch_size = 32"
      ]
    },
    {
      "cell_type": "code",
      "execution_count": 15,
      "metadata": {
        "colab": {
          "base_uri": "https://localhost:8080/"
        },
        "id": "lqymm3qy5mcw",
        "outputId": "1a9b9a13-78de-415c-926b-55dcb69bba01"
      },
      "outputs": [
        {
          "data": {
            "text/plain": [
              "(11568, 224, 224, 3)"
            ]
          },
          "execution_count": 15,
          "metadata": {},
          "output_type": "execute_result"
        }
      ],
      "source": [
        "X_train.shape"
      ]
    },
    {
      "cell_type": "code",
      "execution_count": 16,
      "metadata": {},
      "outputs": [],
      "source": [
        "\n",
        "\n",
        "# Create a callback that saves the model's weights\n",
        "checkpoint = tf.keras.callbacks.ModelCheckpoint('tomato_classifier_model.h5', verbose=1,\n",
        "                                                save_best_only=True)\n",
        "\n"
      ]
    },
    {
      "cell_type": "code",
      "execution_count": 17,
      "metadata": {},
      "outputs": [],
      "source": [
        "EPOCHS = 20\n",
        "model = keras.models.load_model(\"tomato_classifier_model.h5\")"
      ]
    },
    {
      "cell_type": "code",
      "execution_count": 18,
      "metadata": {
        "colab": {
          "base_uri": "https://localhost:8080/"
        },
        "id": "IVBw-lYj5omq",
        "outputId": "34521c7d-dcf9-472c-d665-9c5da8cf36c4"
      },
      "outputs": [
        {
          "name": "stderr",
          "output_type": "stream",
          "text": [
            "C:\\Users\\MaximusX\\AppData\\Local\\Programs\\Python\\Python38\\lib\\site-packages\\keras\\engine\\training.py:1972: UserWarning: `Model.fit_generator` is deprecated and will be removed in a future version. Please use `Model.fit`, which supports generators.\n",
            "  warnings.warn('`Model.fit_generator` is deprecated and '\n",
            "C:\\Users\\MaximusX\\AppData\\Local\\Programs\\Python\\Python38\\lib\\site-packages\\keras_preprocessing\\image\\image_data_generator.py:720: UserWarning: This ImageDataGenerator specifies `featurewise_center`, but it hasn't been fit on any training data. Fit it first by calling `.fit(numpy_data)`.\n",
            "  warnings.warn('This ImageDataGenerator specifies '\n",
            "C:\\Users\\MaximusX\\AppData\\Local\\Programs\\Python\\Python38\\lib\\site-packages\\keras_preprocessing\\image\\image_data_generator.py:728: UserWarning: This ImageDataGenerator specifies `featurewise_std_normalization`, but it hasn't been fit on any training data. Fit it first by calling `.fit(numpy_data)`.\n",
            "  warnings.warn('This ImageDataGenerator specifies '\n"
          ]
        },
        {
          "name": "stdout",
          "output_type": "stream",
          "text": [
            "Epoch 1/20\n",
            "64/64 [==============================] - 58s 723ms/step - loss: 0.2739 - accuracy: 0.9236 - val_loss: 0.2470 - val_accuracy: 0.9253\n",
            "\n",
            "Epoch 00001: val_loss improved from inf to 0.24703, saving model to tomato_classifier_model.h5\n"
          ]
        },
        {
          "name": "stderr",
          "output_type": "stream",
          "text": [
            "C:\\Users\\MaximusX\\AppData\\Local\\Programs\\Python\\Python38\\lib\\site-packages\\keras\\utils\\generic_utils.py:494: CustomMaskWarning: Custom mask layers require a config and must override get_config. When loading, the custom mask layer must be passed to the custom_objects argument.\n",
            "  warnings.warn('Custom mask layers require a config and must override '\n"
          ]
        },
        {
          "name": "stdout",
          "output_type": "stream",
          "text": [
            "Epoch 2/20\n",
            "64/64 [==============================] - 49s 760ms/step - loss: 0.2689 - accuracy: 0.9228 - val_loss: 0.2814 - val_accuracy: 0.9215\n",
            "\n",
            "Epoch 00002: val_loss did not improve from 0.24703\n",
            "Epoch 3/20\n",
            "64/64 [==============================] - 53s 829ms/step - loss: 0.2581 - accuracy: 0.9248 - val_loss: 0.2677 - val_accuracy: 0.9300\n",
            "\n",
            "Epoch 00003: val_loss did not improve from 0.24703\n",
            "Epoch 4/20\n",
            "64/64 [==============================] - 50s 777ms/step - loss: 0.2659 - accuracy: 0.9238 - val_loss: 0.2289 - val_accuracy: 0.9370\n",
            "\n",
            "Epoch 00004: val_loss improved from 0.24703 to 0.22891, saving model to tomato_classifier_model.h5\n",
            "Epoch 5/20\n",
            "64/64 [==============================] - 51s 785ms/step - loss: 0.2638 - accuracy: 0.9268 - val_loss: 0.2312 - val_accuracy: 0.9425\n",
            "\n",
            "Epoch 00005: val_loss did not improve from 0.22891\n",
            "Epoch 6/20\n",
            "64/64 [==============================] - 50s 775ms/step - loss: 0.2528 - accuracy: 0.9289 - val_loss: 0.2323 - val_accuracy: 0.9362\n",
            "\n",
            "Epoch 00006: val_loss did not improve from 0.22891\n",
            "Epoch 7/20\n",
            "64/64 [==============================] - 52s 807ms/step - loss: 0.2584 - accuracy: 0.9243 - val_loss: 0.2227 - val_accuracy: 0.9417\n",
            "\n",
            "Epoch 00007: val_loss improved from 0.22891 to 0.22269, saving model to tomato_classifier_model.h5\n",
            "Epoch 8/20\n",
            "64/64 [==============================] - 52s 799ms/step - loss: 0.2495 - accuracy: 0.9324 - val_loss: 0.2184 - val_accuracy: 0.9401\n",
            "\n",
            "Epoch 00008: val_loss improved from 0.22269 to 0.21837, saving model to tomato_classifier_model.h5\n",
            "Epoch 9/20\n",
            "64/64 [==============================] - 51s 784ms/step - loss: 0.2467 - accuracy: 0.9324 - val_loss: 0.2218 - val_accuracy: 0.9432\n",
            "\n",
            "Epoch 00009: val_loss did not improve from 0.21837\n",
            "Epoch 10/20\n",
            "64/64 [==============================] - 50s 775ms/step - loss: 0.3286 - accuracy: 0.9306 - val_loss: 0.3095 - val_accuracy: 0.9020\n",
            "\n",
            "Epoch 00010: val_loss did not improve from 0.21837\n",
            "Epoch 11/20\n",
            "64/64 [==============================] - 51s 785ms/step - loss: 0.2642 - accuracy: 0.9248 - val_loss: 0.2775 - val_accuracy: 0.9184\n",
            "\n",
            "Epoch 00011: val_loss did not improve from 0.21837\n",
            "Epoch 12/20\n",
            "64/64 [==============================] - 51s 783ms/step - loss: 0.2639 - accuracy: 0.9140 - val_loss: 0.2821 - val_accuracy: 0.8733\n",
            "\n",
            "Epoch 00012: val_loss did not improve from 0.21837\n",
            "Epoch 13/20\n",
            "64/64 [==============================] - 51s 797ms/step - loss: 0.2771 - accuracy: 0.9172 - val_loss: 0.3044 - val_accuracy: 0.8904\n",
            "\n",
            "Epoch 00013: val_loss did not improve from 0.21837\n",
            "Epoch 14/20\n",
            "64/64 [==============================] - 52s 799ms/step - loss: 0.2452 - accuracy: 0.9221 - val_loss: 0.2213 - val_accuracy: 0.9409\n",
            "\n",
            "Epoch 00014: val_loss did not improve from 0.21837\n",
            "Epoch 15/20\n",
            "64/64 [==============================] - 54s 830ms/step - loss: 0.2543 - accuracy: 0.9194 - val_loss: 0.2591 - val_accuracy: 0.9261\n",
            "\n",
            "Epoch 00015: val_loss did not improve from 0.21837\n",
            "Epoch 16/20\n",
            "64/64 [==============================] - 53s 820ms/step - loss: 0.2217 - accuracy: 0.9385 - val_loss: 0.1967 - val_accuracy: 0.9549\n",
            "\n",
            "Epoch 00016: val_loss improved from 0.21837 to 0.19671, saving model to tomato_classifier_model.h5\n",
            "Epoch 17/20\n",
            "64/64 [==============================] - 52s 801ms/step - loss: 0.2317 - accuracy: 0.9277 - val_loss: 0.2416 - val_accuracy: 0.9331\n",
            "\n",
            "Epoch 00017: val_loss did not improve from 0.19671\n",
            "Epoch 18/20\n",
            "64/64 [==============================] - 55s 849ms/step - loss: 0.2449 - accuracy: 0.9297 - val_loss: 0.4123 - val_accuracy: 0.9261\n",
            "\n",
            "Epoch 00018: val_loss did not improve from 0.19671\n",
            "Epoch 19/20\n",
            "64/64 [==============================] - 53s 816ms/step - loss: 0.2729 - accuracy: 0.9025 - val_loss: 1.1262 - val_accuracy: 0.7076\n",
            "\n",
            "Epoch 00019: val_loss did not improve from 0.19671\n",
            "Epoch 20/20\n",
            "64/64 [==============================] - 50s 776ms/step - loss: 0.3382 - accuracy: 0.8962 - val_loss: 0.7452 - val_accuracy: 0.4572\n",
            "\n",
            "Epoch 00020: val_loss did not improve from 0.19671\n"
          ]
        },
        {
          "data": {
            "text/plain": [
              "<keras.callbacks.History at 0x24282622ee0>"
            ]
          },
          "execution_count": 18,
          "metadata": {},
          "output_type": "execute_result"
        }
      ],
      "source": [
        "model.fit_generator(train_generator, validation_data= (X_test, y_test),steps_per_epoch=BATCH_SIZE ,epochs=EPOCHS,callbacks=[checkpoint])\n",
        "\n",
        "\n"
      ]
    },
    {
      "cell_type": "code",
      "execution_count": 22,
      "metadata": {
        "id": "A-w57USnpjDo"
      },
      "outputs": [
        {
          "name": "stdout",
          "output_type": "stream",
          "text": [
            "accuracy: 45.72%\n"
          ]
        }
      ],
      "source": [
        "model.save_weights('model_weights.h5')\n",
        "scores = model.evaluate(X_test, y_test, verbose=0)\n",
        "print(\"%s: %.2f%%\" % (model.metrics_names[1], scores[1]*100))"
      ]
    },
    {
      "cell_type": "code",
      "execution_count": 20,
      "metadata": {},
      "outputs": [],
      "source": [
        "new_model = keras.models.load_model(\"tomato_classifier_model.h5\")"
      ]
    },
    {
      "cell_type": "code",
      "execution_count": 21,
      "metadata": {},
      "outputs": [
        {
          "name": "stdout",
          "output_type": "stream",
          "text": [
            "accuracy: 95.49%\n"
          ]
        }
      ],
      "source": [
        "scores = new_model.evaluate(X_test, y_test, verbose=0)\n",
        "print(\"%s: %.2f%%\" % (model.metrics_names[1], scores[1]*100))"
      ]
    }
  ],
  "metadata": {
    "colab": {
      "collapsed_sections": [],
      "name": "TomatoDetection_Zoe",
      "provenance": []
    },
    "kernelspec": {
      "display_name": "Python 3",
      "name": "python3"
    },
    "language_info": {
      "codemirror_mode": {
        "name": "ipython",
        "version": 3
      },
      "file_extension": ".py",
      "mimetype": "text/x-python",
      "name": "python",
      "nbconvert_exporter": "python",
      "pygments_lexer": "ipython3",
      "version": "3.8.8"
    }
  },
  "nbformat": 4,
  "nbformat_minor": 0
}
