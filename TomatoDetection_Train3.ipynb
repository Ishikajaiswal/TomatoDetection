{
  "cells": [
    {
      "cell_type": "code",
      "execution_count": 2,
      "metadata": {
        "id": "8KCRZxrCCkoH"
      },
      "outputs": [],
      "source": [
        "import numpy as np\n",
        "import random\n",
        "import json\n",
        "import cv2 as cv\n",
        "import pandas as pd\n",
        "import matplotlib.pyplot as plt\n",
        "import xml.etree.ElementTree as ET\n",
        "from sklearn.model_selection import train_test_split\n",
        "import tensorflow as tf\n",
        "import keras \n",
        "from keras.models import Sequential\n",
        "from keras import regularizers\n",
        "from keras.layers import Dense, Conv2D, Dropout, Flatten, MaxPooling2D\n",
        "from keras.preprocessing.image import ImageDataGenerator\n",
        "from keras.applications.resnet import ResNet50"
      ]
    },
    {
      "cell_type": "code",
      "execution_count": 3,
      "metadata": {},
      "outputs": [
        {
          "data": {
            "text/html": [
              "<div>\n",
              "<style scoped>\n",
              "    .dataframe tbody tr th:only-of-type {\n",
              "        vertical-align: middle;\n",
              "    }\n",
              "\n",
              "    .dataframe tbody tr th {\n",
              "        vertical-align: top;\n",
              "    }\n",
              "\n",
              "    .dataframe thead th {\n",
              "        text-align: right;\n",
              "    }\n",
              "</style>\n",
              "<table border=\"1\" class=\"dataframe\">\n",
              "  <thead>\n",
              "    <tr style=\"text-align: right;\">\n",
              "      <th></th>\n",
              "      <th>lables</th>\n",
              "    </tr>\n",
              "  </thead>\n",
              "  <tbody>\n",
              "    <tr>\n",
              "      <th>0</th>\n",
              "      <td>1</td>\n",
              "    </tr>\n",
              "    <tr>\n",
              "      <th>1</th>\n",
              "      <td>1</td>\n",
              "    </tr>\n",
              "    <tr>\n",
              "      <th>2</th>\n",
              "      <td>1</td>\n",
              "    </tr>\n",
              "    <tr>\n",
              "      <th>3</th>\n",
              "      <td>1</td>\n",
              "    </tr>\n",
              "    <tr>\n",
              "      <th>4</th>\n",
              "      <td>1</td>\n",
              "    </tr>\n",
              "    <tr>\n",
              "      <th>...</th>\n",
              "      <td>...</td>\n",
              "    </tr>\n",
              "    <tr>\n",
              "      <th>12849</th>\n",
              "      <td>0</td>\n",
              "    </tr>\n",
              "    <tr>\n",
              "      <th>12850</th>\n",
              "      <td>0</td>\n",
              "    </tr>\n",
              "    <tr>\n",
              "      <th>12851</th>\n",
              "      <td>0</td>\n",
              "    </tr>\n",
              "    <tr>\n",
              "      <th>12852</th>\n",
              "      <td>0</td>\n",
              "    </tr>\n",
              "    <tr>\n",
              "      <th>12853</th>\n",
              "      <td>0</td>\n",
              "    </tr>\n",
              "  </tbody>\n",
              "</table>\n",
              "<p>12854 rows × 1 columns</p>\n",
              "</div>"
            ],
            "text/plain": [
              "       lables\n",
              "0           1\n",
              "1           1\n",
              "2           1\n",
              "3           1\n",
              "4           1\n",
              "...       ...\n",
              "12849       0\n",
              "12850       0\n",
              "12851       0\n",
              "12852       0\n",
              "12853       0\n",
              "\n",
              "[12854 rows x 1 columns]"
            ]
          },
          "execution_count": 3,
          "metadata": {},
          "output_type": "execute_result"
        }
      ],
      "source": [
        "labels = pd.read_csv('labels3.csv')\n",
        "num = len(labels)\n",
        "labels = labels.iloc[: , 1:]\n",
        "labels"
      ]
    },
    {
      "cell_type": "code",
      "execution_count": 4,
      "metadata": {},
      "outputs": [],
      "source": [
        "path = 'imcrop3/'\n",
        "imgs = []\n",
        "for i in range(num):\n",
        "    img = cv.imread(path + \"t{}.jpg\".format(i))\n",
        "    imgs.append(img)"
      ]
    },
    {
      "cell_type": "code",
      "execution_count": 5,
      "metadata": {},
      "outputs": [
        {
          "data": {
            "text/plain": [
              "12854"
            ]
          },
          "execution_count": 5,
          "metadata": {},
          "output_type": "execute_result"
        },
        {
          "data": {
            "image/png": "[encoded data removed]",
            "text/plain": [
              "<Figure size 432x288 with 1 Axes>"
            ]
          },
          "metadata": {
            "needs_background": "light"
          },
          "output_type": "display_data"
        }
      ],
      "source": [
        "rand = random.randint(0,num)\n",
        "img_show = imgs[rand]\n",
        "plt.imshow(img_show)\n",
        "len(imgs)\n",
        "\n"
      ]
    },
    {
      "cell_type": "code",
      "execution_count": 6,
      "metadata": {
        "id": "MfHlHXDWcogJ"
      },
      "outputs": [],
      "source": [
        "X_train, X_test , y_train, y_test = train_test_split(np.array(imgs),np.array(labels),test_size=0.10)"
      ]
    },
    {
      "cell_type": "code",
      "execution_count": 7,
      "metadata": {},
      "outputs": [
        {
          "name": "stdout",
          "output_type": "stream",
          "text": [
            "(12854, 1)\n",
            "(11568, 224, 224, 3)\n",
            "(1286, 224, 224, 3)\n",
            "(11568, 1)\n",
            "(1286, 1)\n"
          ]
        },
        {
          "data": {
            "text/plain": [
              "(12854, 224, 224, 3)"
            ]
          },
          "execution_count": 7,
          "metadata": {},
          "output_type": "execute_result"
        }
      ],
      "source": [
        "print((np.array(labels)).shape)\n",
        "print(X_train.shape)\n",
        "print(X_test.shape)\n",
        "print(y_train.shape)\n",
        "print(y_test.shape)\n",
        "(np.array(imgs)).shape\n"
      ]
    },
    {
      "cell_type": "code",
      "execution_count": 8,
      "metadata": {
        "id": "RhU7lyJC5PQQ"
      },
      "outputs": [],
      "source": [
        "datagen = ImageDataGenerator(\n",
        "    featurewise_center=True,\n",
        "    featurewise_std_normalization=True,\n",
        "    rotation_range=20,\n",
        "    width_shift_range=0.2,\n",
        "    height_shift_range=0.2,\n",
        "    horizontal_flip=True)"
      ]
    },
    {
      "cell_type": "code",
      "execution_count": 9,
      "metadata": {
        "id": "0NxE3FSh5Vqo"
      },
      "outputs": [],
      "source": [
        "BATCH_SIZE = 64\n",
        "train_generator= datagen.flow(X_train, y_train, batch_size=BATCH_SIZE)\n"
      ]
    },
    {
      "cell_type": "code",
      "execution_count": 10,
      "metadata": {
        "id": "aUvUFp5h5fsD"
      },
      "outputs": [],
      "source": [
        "batch_size = 32"
      ]
    },
    {
      "cell_type": "code",
      "execution_count": 11,
      "metadata": {
        "colab": {
          "base_uri": "https://localhost:8080/"
        },
        "id": "lqymm3qy5mcw",
        "outputId": "1a9b9a13-78de-415c-926b-55dcb69bba01"
      },
      "outputs": [
        {
          "data": {
            "text/plain": [
              "(11568, 224, 224, 3)"
            ]
          },
          "execution_count": 11,
          "metadata": {},
          "output_type": "execute_result"
        }
      ],
      "source": [
        "X_train.shape"
      ]
    },
    {
      "cell_type": "code",
      "execution_count": 12,
      "metadata": {},
      "outputs": [],
      "source": [
        "\n",
        "\n",
        "# Create a callback that saves the model's weights\n",
        "checkpoint2 = tf.keras.callbacks.ModelCheckpoint('tomato_classifier_2.h5', verbose=1,\n",
        "                                                save_best_only=True)\n",
        "\n"
      ]
    },
    {
      "cell_type": "code",
      "execution_count": 18,
      "metadata": {},
      "outputs": [],
      "source": [
        "EPOCHS = 30\n",
        "model2 = keras.models.load_model(\"tomato_classifier_2.h5\")"
      ]
    },
    {
      "cell_type": "code",
      "execution_count": 19,
      "metadata": {
        "colab": {
          "base_uri": "https://localhost:8080/"
        },
        "id": "IVBw-lYj5omq",
        "outputId": "34521c7d-dcf9-472c-d665-9c5da8cf36c4"
      },
      "outputs": [
        {
          "name": "stdout",
          "output_type": "stream",
          "text": [
            "Epoch 1/30\n",
            "64/64 [==============================] - 78s 1s/step - loss: 0.2355 - accuracy: 0.9365 - val_loss: 0.2455 - val_accuracy: 0.9401\n",
            "\n",
            "Epoch 00001: val_loss did not improve from 0.20899\n",
            "Epoch 2/30\n",
            "64/64 [==============================] - 69s 1s/step - loss: 0.2362 - accuracy: 0.9314 - val_loss: 0.1859 - val_accuracy: 0.9541\n",
            "\n",
            "Epoch 00002: val_loss improved from 0.20899 to 0.18586, saving model to tomato_classifier_2.h5\n",
            "Epoch 3/30\n",
            "64/64 [==============================] - 68s 1s/step - loss: 0.2256 - accuracy: 0.9348 - val_loss: 0.1893 - val_accuracy: 0.9526\n",
            "\n",
            "Epoch 00003: val_loss did not improve from 0.18586\n",
            "Epoch 4/30\n",
            "64/64 [==============================] - 68s 1s/step - loss: 0.2304 - accuracy: 0.9255 - val_loss: 0.1758 - val_accuracy: 0.9572\n",
            "\n",
            "Epoch 00004: val_loss improved from 0.18586 to 0.17579, saving model to tomato_classifier_2.h5\n",
            "Epoch 5/30\n",
            "64/64 [==============================] - 67s 1s/step - loss: 0.2275 - accuracy: 0.9304 - val_loss: 0.1753 - val_accuracy: 0.9518\n",
            "\n",
            "Epoch 00005: val_loss improved from 0.17579 to 0.17534, saving model to tomato_classifier_2.h5\n",
            "Epoch 6/30\n",
            "64/64 [==============================] - 57s 892ms/step - loss: 0.2275 - accuracy: 0.9304 - val_loss: 0.4155 - val_accuracy: 0.8072\n",
            "\n",
            "Epoch 00006: val_loss did not improve from 0.17534\n",
            "Epoch 7/30\n",
            "64/64 [==============================] - 58s 900ms/step - loss: 0.2291 - accuracy: 0.9350 - val_loss: 39.1270 - val_accuracy: 0.9020\n",
            "\n",
            "Epoch 00007: val_loss did not improve from 0.17534\n",
            "Epoch 8/30\n",
            "64/64 [==============================] - 62s 957ms/step - loss: 0.2401 - accuracy: 0.9409 - val_loss: 0.2665 - val_accuracy: 0.9269\n",
            "\n",
            "Epoch 00008: val_loss did not improve from 0.17534\n",
            "Epoch 9/30\n",
            "64/64 [==============================] - 64s 982ms/step - loss: 0.2314 - accuracy: 0.9351 - val_loss: 0.2028 - val_accuracy: 0.9526\n",
            "\n",
            "Epoch 00009: val_loss did not improve from 0.17534\n",
            "Epoch 10/30\n",
            "64/64 [==============================] - 64s 999ms/step - loss: 0.2256 - accuracy: 0.9375 - val_loss: 0.1911 - val_accuracy: 0.9533\n",
            "\n",
            "Epoch 00010: val_loss did not improve from 0.17534\n",
            "Epoch 11/30\n",
            "64/64 [==============================] - 59s 912ms/step - loss: 0.2149 - accuracy: 0.9402 - val_loss: 0.2253 - val_accuracy: 0.9378\n",
            "\n",
            "Epoch 00011: val_loss did not improve from 0.17534\n",
            "Epoch 12/30\n",
            "64/64 [==============================] - 57s 891ms/step - loss: 0.2104 - accuracy: 0.9446 - val_loss: 0.1911 - val_accuracy: 0.9417\n",
            "\n",
            "Epoch 00012: val_loss did not improve from 0.17534\n",
            "Epoch 13/30\n",
            "64/64 [==============================] - 58s 899ms/step - loss: 0.2128 - accuracy: 0.9397 - val_loss: 0.2007 - val_accuracy: 0.9510\n",
            "\n",
            "Epoch 00013: val_loss did not improve from 0.17534\n",
            "Epoch 14/30\n",
            "64/64 [==============================] - 59s 918ms/step - loss: 0.2138 - accuracy: 0.9402 - val_loss: 0.1683 - val_accuracy: 0.9603\n",
            "\n",
            "Epoch 00014: val_loss improved from 0.17534 to 0.16827, saving model to tomato_classifier_2.h5\n",
            "Epoch 15/30\n",
            "64/64 [==============================] - 61s 946ms/step - loss: 0.2158 - accuracy: 0.9422 - val_loss: 0.1718 - val_accuracy: 0.9565\n",
            "\n",
            "Epoch 00015: val_loss did not improve from 0.16827\n",
            "Epoch 16/30\n",
            "64/64 [==============================] - 60s 928ms/step - loss: 0.2213 - accuracy: 0.9324 - val_loss: 0.1921 - val_accuracy: 0.9417\n",
            "\n",
            "Epoch 00016: val_loss did not improve from 0.16827\n",
            "Epoch 17/30\n",
            "64/64 [==============================] - 59s 919ms/step - loss: 0.2085 - accuracy: 0.9400 - val_loss: 0.1687 - val_accuracy: 0.9557\n",
            "\n",
            "Epoch 00017: val_loss did not improve from 0.16827\n",
            "Epoch 18/30\n",
            "64/64 [==============================] - 61s 944ms/step - loss: 0.2277 - accuracy: 0.9331 - val_loss: 0.2589 - val_accuracy: 0.8958\n",
            "\n",
            "Epoch 00018: val_loss did not improve from 0.16827\n",
            "Epoch 19/30\n",
            "64/64 [==============================] - 63s 968ms/step - loss: 0.2205 - accuracy: 0.9392 - val_loss: 0.2194 - val_accuracy: 0.9495\n",
            "\n",
            "Epoch 00019: val_loss did not improve from 0.16827\n",
            "Epoch 20/30\n",
            "64/64 [==============================] - 61s 947ms/step - loss: 0.2205 - accuracy: 0.9397 - val_loss: 0.2137 - val_accuracy: 0.9362\n",
            "\n",
            "Epoch 00020: val_loss did not improve from 0.16827\n",
            "Epoch 21/30\n",
            "64/64 [==============================] - 61s 945ms/step - loss: 0.2157 - accuracy: 0.9385 - val_loss: 0.1769 - val_accuracy: 0.9619\n",
            "\n",
            "Epoch 00021: val_loss did not improve from 0.16827\n",
            "Epoch 22/30\n",
            "64/64 [==============================] - 57s 888ms/step - loss: 0.2150 - accuracy: 0.9404 - val_loss: 0.1933 - val_accuracy: 0.9487\n",
            "\n",
            "Epoch 00022: val_loss did not improve from 0.16827\n",
            "Epoch 23/30\n",
            "64/64 [==============================] - 58s 892ms/step - loss: 0.2059 - accuracy: 0.9417 - val_loss: 0.1696 - val_accuracy: 0.9565\n",
            "\n",
            "Epoch 00023: val_loss did not improve from 0.16827\n",
            "Epoch 24/30\n",
            "64/64 [==============================] - 56s 869ms/step - loss: 0.2012 - accuracy: 0.9421 - val_loss: 0.1668 - val_accuracy: 0.9588\n",
            "\n",
            "Epoch 00024: val_loss improved from 0.16827 to 0.16681, saving model to tomato_classifier_2.h5\n",
            "Epoch 25/30\n",
            "64/64 [==============================] - 56s 871ms/step - loss: 0.2063 - accuracy: 0.9407 - val_loss: 0.1522 - val_accuracy: 0.9611\n",
            "\n",
            "Epoch 00025: val_loss improved from 0.16681 to 0.15218, saving model to tomato_classifier_2.h5\n",
            "Epoch 26/30\n",
            "64/64 [==============================] - 56s 867ms/step - loss: 0.2087 - accuracy: 0.9387 - val_loss: 0.1667 - val_accuracy: 0.9487\n",
            "\n",
            "Epoch 00026: val_loss did not improve from 0.15218\n",
            "Epoch 27/30\n",
            "64/64 [==============================] - 57s 887ms/step - loss: 0.1991 - accuracy: 0.9473 - val_loss: 0.2108 - val_accuracy: 0.9222\n",
            "\n",
            "Epoch 00027: val_loss did not improve from 0.15218\n",
            "Epoch 28/30\n",
            "64/64 [==============================] - 57s 877ms/step - loss: 0.2034 - accuracy: 0.9422 - val_loss: 0.4911 - val_accuracy: 0.8880\n",
            "\n",
            "Epoch 00028: val_loss did not improve from 0.15218\n",
            "Epoch 29/30\n",
            "64/64 [==============================] - 54s 835ms/step - loss: 0.2240 - accuracy: 0.9290 - val_loss: 0.2151 - val_accuracy: 0.9440\n",
            "\n",
            "Epoch 00029: val_loss did not improve from 0.15218\n",
            "Epoch 30/30\n",
            "64/64 [==============================] - 57s 886ms/step - loss: 0.2394 - accuracy: 0.9158 - val_loss: 0.4795 - val_accuracy: 0.7512\n",
            "\n",
            "Epoch 00030: val_loss did not improve from 0.15218\n"
          ]
        },
        {
          "data": {
            "text/plain": [
              "<keras.callbacks.History at 0x1dd372a1400>"
            ]
          },
          "execution_count": 19,
          "metadata": {},
          "output_type": "execute_result"
        }
      ],
      "source": [
        "model2.fit_generator(train_generator, validation_data= (X_test, y_test),steps_per_epoch=BATCH_SIZE ,epochs=EPOCHS,callbacks=[checkpoint2])\n"
      ]
    },
    {
      "cell_type": "code",
      "execution_count": 20,
      "metadata": {
        "id": "A-w57USnpjDo"
      },
      "outputs": [
        {
          "name": "stdout",
          "output_type": "stream",
          "text": [
            "accuracy: 75.12%\n"
          ]
        }
      ],
      "source": [
        "scores = model2.evaluate(X_test, y_test, verbose=0)\n",
        "print(\"%s: %.2f%%\" % (model2.metrics_names[1], scores[1]*100))"
      ]
    },
    {
      "cell_type": "code",
      "execution_count": 21,
      "metadata": {},
      "outputs": [],
      "source": [
        "new_model2 = keras.models.load_model(\"tomato_classifier_2.h5\")"
      ]
    },
    {
      "cell_type": "code",
      "execution_count": 22,
      "metadata": {},
      "outputs": [
        {
          "name": "stdout",
          "output_type": "stream",
          "text": [
            "accuracy: 96.11%\n"
          ]
        }
      ],
      "source": [
        "scores = new_model2.evaluate(X_test, y_test, verbose=0)\n",
        "print(\"%s: %.2f%%\" % (model2.metrics_names[1], scores[1]*100))"
      ]
    }
  ],
  "metadata": {
    "colab": {
      "collapsed_sections": [],
      "name": "TomatoDetection_Zoe",
      "provenance": []
    },
    "kernelspec": {
      "display_name": "Python 3",
      "name": "python3"
    },
    "language_info": {
      "codemirror_mode": {
        "name": "ipython",
        "version": 3
      },
      "file_extension": ".py",
      "mimetype": "text/x-python",
      "name": "python",
      "nbconvert_exporter": "python",
      "pygments_lexer": "ipython3",
      "version": "3.8.8"
    }
  },
  "nbformat": 4,
  "nbformat_minor": 0
}
