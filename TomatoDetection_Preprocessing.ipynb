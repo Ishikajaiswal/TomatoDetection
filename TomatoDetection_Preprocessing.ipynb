{
  "nbformat": 4,
  "nbformat_minor": 0,
  "metadata": {
    "colab": {
      "name": "TomatoDetection_Preprocessing",
      "provenance": [],
      "collapsed_sections": []
    },
    "kernelspec": {
      "name": "python3",
      "display_name": "Python 3"
    },
    "language_info": {
      "name": "python"
    }
  },
  "cells": [
    {
      "cell_type": "code",
      "execution_count": null,
      "metadata": {
        "id": "j5MPGaKtNriC",
        "colab": {
          "base_uri": "https://localhost:8080/"
        },
        "outputId": "578c7f7f-7b03-4b1d-91c0-c6a26bd03bdb"
      },
      "outputs": [
        {
          "output_type": "stream",
          "name": "stdout",
          "text": [
            "Mounted at /content/drive\n"
          ]
        }
      ],
      "source": [
        "from google.colab import drive\n",
        "drive.mount('/content/drive')"
      ]
    },
    {
      "cell_type": "code",
      "source": [
        "import numpy as np\n",
        "import cv2 as cv\n",
        "import matplotlib.pyplot as plt\n",
        "import xml.etree.ElementTree as ET\n",
        "from sklearn.model_selection import train_test_split"
      ],
      "metadata": {
        "id": "8KCRZxrCCkoH"
      },
      "execution_count": null,
      "outputs": []
    },
    {
      "cell_type": "code",
      "source": [
        "#loading images and annotations\n",
        "X = []\n",
        "xmins =[]\n",
        "ymins = []\n",
        "xmaxs = []\n",
        "ymaxs = []\n",
        "for i in range(895):\n",
        "    impath = '/content/drive/My Drive/TomatoDetection/images/tomato' + str(i) + '.png'\n",
        "    img = cv.imread(impath)\n",
        "    X.append(img)\n",
        "    \n",
        "    etpath = '/content/drive/My Drive/TomatoDetection/annotations/tomato'+ str(i) +'.xml'\n",
        "    tree = ET.parse(etpath)\n",
        "    root = tree.getroot()\n",
        "    xmin = []\n",
        "    ymin = []\n",
        "    xmax = []\n",
        "    ymax = []\n",
        "    for child in root:\n",
        "        if (child.tag == 'object'):\n",
        "            xmin.append(int(child.find('bndbox').find('xmin').text))\n",
        "            ymin.append(int(child.find('bndbox').find('ymin').text))\n",
        "            xmax.append(int(child.find('bndbox').find('xmax').text))\n",
        "            ymax.append(int(child.find('bndbox').find('ymax').text))\n",
        "    xmins.append(xmin)\n",
        "    ymins.append(ymin)\n",
        "    xmaxs.append(xmax)\n",
        "    ymaxs.append(ymax)"
      ],
      "metadata": {
        "id": "qrHBte-WFo-6"
      },
      "execution_count": null,
      "outputs": []
    },
    {
      "cell_type": "code",
      "source": [
        "len(X)"
      ],
      "metadata": {
        "colab": {
          "base_uri": "https://localhost:8080/"
        },
        "id": "VNGBPitqH8LN",
        "outputId": "89298ac7-849d-4007-db74-024b6f7311ed"
      },
      "execution_count": null,
      "outputs": [
        {
          "output_type": "execute_result",
          "data": {
            "text/plain": [
              "895"
            ]
          },
          "metadata": {},
          "execution_count": 4
        }
      ]
    },
    {
      "cell_type": "code",
      "source": [
        "def get_iou(bb1, bb2):\n",
        "    assert bb1['x1'] < bb1['x2']\n",
        "    assert bb1['y1'] < bb1['y2']\n",
        "    assert bb2['x1'] < bb2['x2']\n",
        "    assert bb2['y1'] < bb2['y2']\n",
        "\n",
        "    x_left = max(bb1['x1'], bb2['x1'])\n",
        "    y_top = max(bb1['y1'], bb2['y1'])\n",
        "    x_right = min(bb1['x2'], bb2['x2'])\n",
        "    y_bottom = min(bb1['y2'], bb2['y2'])\n",
        "\n",
        "    if x_right < x_left or y_bottom < y_top:\n",
        "        return 0.0\n",
        "\n",
        "    intersection_area = (x_right - x_left) * (y_bottom - y_top)\n",
        "\n",
        "    bb1_area = (bb1['x2'] - bb1['x1']) * (bb1['y2'] - bb1['y1'])\n",
        "    bb2_area = (bb2['x2'] - bb2['x1']) * (bb2['y2'] - bb2['y1'])\n",
        "\n",
        "    iou = intersection_area / float(bb1_area + bb2_area - intersection_area)\n",
        "    assert iou >= 0.0\n",
        "    assert iou <= 1.0\n",
        "    return iou"
      ],
      "metadata": {
        "id": "skGYzG3OLhfR"
      },
      "execution_count": null,
      "outputs": []
    },
    {
      "cell_type": "code",
      "source": [
        "ss = cv.ximgproc.segmentation.createSelectiveSearchSegmentation()"
      ],
      "metadata": {
        "id": "X3qUNljTL5ak"
      },
      "execution_count": null,
      "outputs": []
    },
    {
      "cell_type": "code",
      "source": [
        "cnt = 0\n",
        "x_final = list()\n",
        "y_final = list()\n",
        "for i in range(len(X)):\n",
        "  if(i%100 == 0):\n",
        "    print(\"iteration :\", i)\n",
        "  try:\n",
        "    image = X[i]\n",
        "    ss.setBaseImage(image)\n",
        "    ss.switchToSelectiveSearchFast()\n",
        "    ssresults = ss.process()\n",
        "    \n",
        "    counter = 0\n",
        "    falsecounter = 0\n",
        "    for j in range(len(xmins[i])):\n",
        "      timage = image[ymins[i][j]:ymaxs[i][j],xmins[i][j]:xmaxs[i][j]]\n",
        "      timage = cv.resize(timage, (224,224), interpolation = cv.INTER_AREA)\n",
        "      cv.imwrite('/content/drive/My Drive/TomatoDetection/imcrop3/t'+str(cnt)+'.jpg', timage)\n",
        "      cnt += 1\n",
        "      x_final.append(timage)\n",
        "      y_final.append(1)\n",
        "    for e,result in enumerate(ssresults):\n",
        "      if e < 2000 :    \n",
        "        x,y,w,h = result\n",
        "        ious = []\n",
        "        for j in range(len(xmins[i])):\n",
        "          iou = get_iou({\"x1\":xmins[i][j],\"x2\":xmaxs[i][j],\"y1\":ymins[i][j],\"y2\":ymaxs[i][j]},{\"x1\":x,\"x2\":x+w,\"y1\":y,\"y2\":y+h})\n",
        "          ious.append(iou)\n",
        "        if max(ious) > 0.95 :\n",
        "          timage = image[y:y+h,x:x+w]\n",
        "          timage = cv.resize(timage, (224,224), interpolation = cv.INTER_AREA)\n",
        "          cv.imwrite('/content/drive/My Drive/TomatoDetection/imcrop3/t'+str(cnt)+'.jpg', timage)\n",
        "          cnt += 1\n",
        "          x_final.append(timage)\n",
        "          y_final.append(1)\n",
        "\n",
        "        if counter < 4:\n",
        "          if max(ious) > 0.85 and iou < 0.95:\n",
        "            timage = image[y:y+h,x:x+w]\n",
        "            timage = cv.resize(timage, (224,224), interpolation = cv.INTER_AREA)\n",
        "            x_final.append(timage)\n",
        "            cv.imwrite('/content/drive/My Drive/TomatoDetection/imcrop3/t'+str(cnt)+'.jpg', timage)\n",
        "            cnt += 1\n",
        "            y_final.append(1)\n",
        "            counter += 1\n",
        "            # print(\"i :\",i ,\" counter : \",counter)\n",
        "\n",
        "        if falsecounter < 8:\n",
        "          if max(ious) < 0.4:\n",
        "            timage = image[y:y+h,x:x+w]\n",
        "            timage = cv.resize(timage, (224,224), interpolation = cv.INTER_AREA)\n",
        "            x_final.append(timage)\n",
        "            cv.imwrite('/content/drive/My Drive/TomatoDetection/imcrop3/t'+str(cnt)+'.jpg', timage)\n",
        "            cnt += 1\n",
        "            y_final.append(0)\n",
        "            falsecounter += 1\n",
        "        if counter == 5 and falsecounter == 10:\n",
        "          break\n",
        "      \n",
        "                    \n",
        "  except Exception as e:\n",
        "    print(e)\n",
        "    continue"
      ],
      "metadata": {
        "colab": {
          "base_uri": "https://localhost:8080/"
        },
        "id": "lEZWwhZVL95M",
        "outputId": "15e8f0ef-80bb-4ca5-856f-1eb48e965464"
      },
      "execution_count": null,
      "outputs": [
        {
          "output_type": "stream",
          "name": "stdout",
          "text": [
            "iteration : 0\n",
            "iteration : 100\n",
            "iteration : 200\n",
            "iteration : 300\n",
            "iteration : 400\n",
            "iteration : 500\n",
            "iteration : 600\n",
            "iteration : 700\n",
            "iteration : 800\n"
          ]
        }
      ]
    },
    {
      "cell_type": "code",
      "source": [
        "len(x_final)"
      ],
      "metadata": {
        "colab": {
          "base_uri": "https://localhost:8080/"
        },
        "id": "7meE22JNOoAF",
        "outputId": "02b229b8-c288-4178-8624-0633100b5924"
      },
      "execution_count": null,
      "outputs": [
        {
          "output_type": "execute_result",
          "data": {
            "text/plain": [
              "12854"
            ]
          },
          "metadata": {},
          "execution_count": 8
        }
      ]
    },
    {
      "cell_type": "code",
      "source": [
        "np.array(y_final).sum()/len(x_final)"
      ],
      "metadata": {
        "colab": {
          "base_uri": "https://localhost:8080/"
        },
        "id": "EzVdbeTkRinV",
        "outputId": "166391fc-5b66-49fe-df22-619d40ee9a19"
      },
      "execution_count": null,
      "outputs": [
        {
          "output_type": "execute_result",
          "data": {
            "text/plain": [
              "0.4429749494320834"
            ]
          },
          "metadata": {},
          "execution_count": 9
        }
      ]
    },
    {
      "cell_type": "code",
      "source": [
        "y_d = {'lables': y_final}\n",
        "import pandas as pd\n",
        "df = pd.DataFrame(y_d)\n",
        "df.to_csv('/content/drive/My Drive/TomatoDetection/labels3.csv')"
      ],
      "metadata": {
        "id": "bvcR8G7z3mk5"
      },
      "execution_count": null,
      "outputs": []
    },
    {
      "cell_type": "code",
      "source": [
        "x_final[0].shape"
      ],
      "metadata": {
        "colab": {
          "base_uri": "https://localhost:8080/"
        },
        "id": "JuxxypfQzzbr",
        "outputId": "3d1001cf-400e-4580-8466-d8ef4cfd62d9"
      },
      "execution_count": null,
      "outputs": [
        {
          "output_type": "execute_result",
          "data": {
            "text/plain": [
              "(224, 224, 3)"
            ]
          },
          "metadata": {},
          "execution_count": 11
        }
      ]
    },
    {
      "cell_type": "code",
      "source": [
        ""
      ],
      "metadata": {
        "id": "A-w57USnpjDo"
      },
      "execution_count": null,
      "outputs": []
    }
  ]
}